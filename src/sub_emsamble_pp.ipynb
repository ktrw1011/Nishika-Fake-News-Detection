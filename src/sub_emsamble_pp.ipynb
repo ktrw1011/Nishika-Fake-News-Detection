{
 "cells": [
  {
   "cell_type": "code",
   "execution_count": null,
   "metadata": {},
   "outputs": [],
   "source": [
    "import re\n",
    "import pickle\n",
    "import numpy as np\n",
    "import pandas as pd\n",
    "from scipy.special import softmax\n",
    "from sklearn.metrics import accuracy_score\n",
    "from scipy.optimize import minimize"
   ]
  },
  {
   "cell_type": "code",
   "execution_count": null,
   "metadata": {},
   "outputs": [],
   "source": [
    "train_df = pd.read_csv(\"../input/train.csv\")\n",
    "test_df = pd.read_csv(\"../input/test.csv\")\n",
    "sub_df = pd.read_csv(\"../input/sample_submission.csv\")"
   ]
  },
  {
   "cell_type": "code",
   "execution_count": null,
   "metadata": {},
   "outputs": [],
   "source": [
    "def load_preds(exp_name):\n",
    "    with open(f\"../output/{exp_name}/oof_val_preds.pkl\", \"rb\") as f:\n",
    "        val_preds = pickle.load(f)\n",
    "\n",
    "    with open(f\"../output/{exp_name}/oof_test_preds.pkl\", \"rb\") as f:\n",
    "        test_preds = pickle.load(f)\n",
    "\n",
    "    return val_preds, test_preds\n",
    "\n",
    "weights = [\"exp005\", \"exp009\", \"exp018\"]\n",
    "all_val_preds = np.zeros((len(train_df), len(weights)), dtype=np.float32)\n",
    "all_test_preds = np.zeros((len(sub_df), len(weights)), dtype=np.float32)\n",
    "for i, exp_name in enumerate(weights):\n",
    "    val_preds, test_preds = load_preds(exp_name)\n",
    "    val_preds = softmax(val_preds, axis=1)[:, 1]\n",
    "    test_preds = softmax(test_preds, axis=1)[:, 1]\n",
    "    all_val_preds[:, i] = val_preds\n",
    "    all_test_preds[:, i] = test_preds\n",
    "\n",
    "    score = accuracy_score(train_df[\"isFake\"], (val_preds>0.5).astype(int))\n",
    "    print(f\"{exp_name}: score: {score:4f}\")"
   ]
  },
  {
   "cell_type": "code",
   "execution_count": null,
   "metadata": {},
   "outputs": [],
   "source": [
    "def func(weights):\n",
    "    preds = np.average(all_val_preds, axis=1, weights=weights)\n",
    "    preds = (preds>0.5).astype(int)\n",
    "    score = -accuracy_score(train_df[\"isFake\"].values, preds)\n",
    "    return score\n",
    "\n",
    "n_models = all_val_preds.shape[1]\n",
    "initial_weights = np.array([0.45, 0.1, 0.45])\n",
    "res = minimize(func, initial_weights, method='Nelder-Mead')\n",
    "print(-res[\"fun\"])\n",
    "print(res[\"x\"])"
   ]
  },
  {
   "cell_type": "code",
   "execution_count": null,
   "metadata": {},
   "outputs": [],
   "source": [
    "all_val_preds = np.average(all_val_preds, axis=1, weights=res['x'])\n",
    "all_test_preds = np.average(all_test_preds, axis=1, weights=res['x'])"
   ]
  },
  {
   "cell_type": "code",
   "execution_count": null,
   "metadata": {},
   "outputs": [],
   "source": [
    "train_df[\"pred\"] = (all_val_preds>0.5).astype(int)\n",
    "test_df[\"pred\"] = (all_test_preds>0.5).astype(int)"
   ]
  },
  {
   "cell_type": "code",
   "execution_count": null,
   "metadata": {},
   "outputs": [],
   "source": [
    "best_score = 0.\n",
    "for i in np.arange(0, 1.005, 0.005):\n",
    "    score = accuracy_score(train_df[\"isFake\"], (all_val_preds>i).astype(int))\n",
    "    if best_score < score:\n",
    "        best_score = score\n",
    "best_score"
   ]
  },
  {
   "cell_type": "markdown",
   "metadata": {},
   "source": [
    "# postprocess"
   ]
  },
  {
   "cell_type": "code",
   "execution_count": null,
   "metadata": {},
   "outputs": [],
   "source": [
    "accuracy_score(train_df[\"isFake\"], train_df[\"pred\"])"
   ]
  },
  {
   "cell_type": "code",
   "execution_count": null,
   "metadata": {},
   "outputs": [],
   "source": [
    "train_df[train_df[\"pred\"]!=train_df[\"isFake\"]]"
   ]
  },
  {
   "cell_type": "code",
   "execution_count": null,
   "metadata": {},
   "outputs": [],
   "source": [
    "train_df[train_df[\"text\"].str.contains(\"47によると\")]"
   ]
  },
  {
   "cell_type": "code",
   "execution_count": null,
   "metadata": {},
   "outputs": [],
   "source": [
    "test_df[test_df[\"text\"].str.contains(\"47によると\")]"
   ]
  },
  {
   "cell_type": "code",
   "execution_count": null,
   "metadata": {},
   "outputs": [],
   "source": [
    "test_df.loc[test_df[\"text\"].str.contains(\"47によると\"), \"pred\"] = 1"
   ]
  },
  {
   "cell_type": "code",
   "execution_count": null,
   "metadata": {},
   "outputs": [],
   "source": [
    "train_df[train_df[\"text\"].str.contains(\"\\(、以下同\")]"
   ]
  },
  {
   "cell_type": "code",
   "execution_count": null,
   "metadata": {},
   "outputs": [],
   "source": [
    "test_df[test_df[\"text\"].str.contains(\"\\(、以下同\")]"
   ]
  },
  {
   "cell_type": "code",
   "execution_count": null,
   "metadata": {},
   "outputs": [],
   "source": [
    "test_df.loc[test_df[\"text\"].str.contains(\"\\(、以下同\"), \"pred\"] = 1"
   ]
  },
  {
   "cell_type": "code",
   "execution_count": null,
   "metadata": {},
   "outputs": [],
   "source": [
    "train_df[train_df[\"text\"].apply(lambda x: True if re.match(r\"^.?Cによると\", x) else False)]"
   ]
  },
  {
   "cell_type": "code",
   "execution_count": null,
   "metadata": {},
   "outputs": [],
   "source": [
    "test_df[test_df[\"text\"].apply(lambda x: True if re.match(r\"^.?Cによると\", x) else False)]"
   ]
  },
  {
   "cell_type": "code",
   "execution_count": null,
   "metadata": {},
   "outputs": [],
   "source": [
    "test_df.loc[test_df[\"text\"].apply(lambda x: True if re.match(r\"^.?Cによると\", x) else False), \"pred\"] = 1"
   ]
  },
  {
   "cell_type": "code",
   "execution_count": null,
   "metadata": {},
   "outputs": [],
   "source": [
    "train_df[train_df[\"text\"].apply(lambda x: True if re.match(r\"^.?C、.+によると\", x) else False)]"
   ]
  },
  {
   "cell_type": "code",
   "execution_count": null,
   "metadata": {},
   "outputs": [],
   "source": [
    "test_df[test_df[\"text\"].apply(lambda x: True if re.match(r\"^.?C、.+によると\", x) else False)]"
   ]
  },
  {
   "cell_type": "code",
   "execution_count": null,
   "metadata": {},
   "outputs": [],
   "source": [
    "test_df.loc[test_df[\"text\"].apply(lambda x: True if re.match(r\"^.?C、.+によると\", x) else False), \"pred\"] = 1"
   ]
  },
  {
   "cell_type": "code",
   "execution_count": null,
   "metadata": {},
   "outputs": [],
   "source": [
    "sub_df[\"isFake\"] = test_df[\"pred\"]"
   ]
  },
  {
   "cell_type": "code",
   "execution_count": null,
   "metadata": {},
   "outputs": [],
   "source": [
    "sub_df.to_csv(\"../output/ensamble_exp005_exp009_exp018_pp.csv\", index=False)"
   ]
  },
  {
   "cell_type": "code",
   "execution_count": null,
   "metadata": {},
   "outputs": [],
   "source": []
  }
 ],
 "metadata": {
  "interpreter": {
   "hash": "253e74e8a1ea0ab21b55eacff2aa214e3bd3bcea2c25ca84857897d4c87dbfad"
  },
  "kernelspec": {
   "display_name": "Python 3.8.12 ('.venv': venv)",
   "language": "python",
   "name": "python3"
  },
  "language_info": {
   "codemirror_mode": {
    "name": "ipython",
    "version": 3
   },
   "file_extension": ".py",
   "mimetype": "text/x-python",
   "name": "python",
   "nbconvert_exporter": "python",
   "pygments_lexer": "ipython3",
   "version": "3.8.12"
  },
  "orig_nbformat": 4
 },
 "nbformat": 4,
 "nbformat_minor": 2
}
